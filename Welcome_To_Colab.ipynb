{
  "cells": [
    {
      "cell_type": "markdown",
      "source": [
        "#Web Development Assignment\n",
        "Q1. Explain the main components of client server architecture and their funcations?\n",
        "\n",
        "Ans. The client server architecture is a process that how Client communicate with server here Client send request to Server, Server accept the request, prcoess the request and send a meaningful response to server.\n",
        "\n",
        "The main components of Client server architecture are http, IP address, Port and Internet.\n",
        "\n",
        "Http: It stand for hyper text transfer protocol with the help of http client transfer the request to server and server respond to client.\n",
        "\n",
        "IP Address: Basically Internet Protocol is use to know the location of client and server without IP Address of Server, Client did't send the request to server.\n",
        "\n",
        "Port: Port is a number that define the process uniquely.\n",
        "\n",
        "Internet: Internet is a medium through which client intreact with server and server intreact with client.\n",
        "\n",
        "\n",
        "\n",
        "Q2. Discuss the various career paths available after completing a web development course?\n",
        "\n",
        "Ans. Various carrier paths available after completing a web development course are mentioned below;\n",
        "\n",
        "\n",
        "1.   Full Stack Developer\n",
        "2.   Frontend Engineer\n",
        "2.   Backend Engineer\n",
        "\n",
        "1.   Website Developer\n",
        "\n",
        "Q3. Describe the role of a web browser's developer tools in web development?\n",
        "\n",
        "Ans. The role of web browser's developer tools also known as dev tools tools in web development is to create, test and debug websites. To check security, Test perfromance and debug.\n",
        "\n",
        "Q4.  What are the advantages of using a Version Control System like Git in a development project?\n",
        "Ans. Version Control System like Git keep managing the changes in code and files and keep tracking the history of version so we can shift to old veersion.\n",
        "\n",
        "Q5. Compare and contrast a text editor and an IDE, highlighting their key features and uses?\n",
        "\n",
        "Ans. Text Editor is a software use for creating and managing the text in a plain text and IDE stand for Integrated Development Environment basically IDE has many advance tools that add to Text editor and enhance the funcations of Text Editor it provide all the facility like creating, editing, testing, debugging and deployment.\n",
        "\n",
        "Key Features of Text Editor\n",
        "\n",
        "- Highlighting syntax\n",
        "- Find and replace the words\n",
        "- Customization\n",
        "- Code Completion\n",
        "\n",
        "Key Features OF IDE\n",
        "\n",
        "- Integrated compiler and debugging tools\n",
        "- Advance editing facility\n",
        "-Code Completion\n",
        "-Progect Management\n"
      ],
      "metadata": {
        "id": "NRll9m9MHVDT"
      }
    },
    {
      "cell_type": "markdown",
      "source": [],
      "metadata": {
        "id": "nXOeQoskP8WB"
      }
    }
  ],
  "metadata": {
    "colab": {
      "name": "Welcome To Colab",
      "provenance": []
    },
    "kernelspec": {
      "display_name": "Python 3",
      "name": "python3"
    }
  },
  "nbformat": 4,
  "nbformat_minor": 0
}